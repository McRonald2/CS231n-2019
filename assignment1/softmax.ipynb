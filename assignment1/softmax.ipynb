{
 "cells": [
  {
   "cell_type": "markdown",
   "metadata": {
    "tags": [
     "pdf-title"
    ]
   },
   "source": [
    "# Softmax exercise\n",
    "\n",
    "*Complete and hand in this completed worksheet (including its outputs and any supporting code outside of the worksheet) with your assignment submission. For more details see the [assignments page](http://vision.stanford.edu/teaching/cs231n/assignments.html) on the course website.*\n",
    "\n",
    "This exercise is analogous to the SVM exercise. You will:\n",
    "\n",
    "- implement a fully-vectorized **loss function** for the Softmax classifier\n",
    "- implement the fully-vectorized expression for its **analytic gradient**\n",
    "- **check your implementation** with numerical gradient\n",
    "- use a validation set to **tune the learning rate and regularization** strength\n",
    "- **optimize** the loss function with **SGD**\n",
    "- **visualize** the final learned weights\n"
   ]
  },
  {
   "cell_type": "code",
   "execution_count": 1,
   "metadata": {
    "tags": [
     "pdf-ignore"
    ]
   },
   "outputs": [],
   "source": [
    "import random\n",
    "import numpy as np\n",
    "from cs231n.data_utils import load_CIFAR10\n",
    "import matplotlib.pyplot as plt\n",
    "\n",
    "%matplotlib inline\n",
    "plt.rcParams['figure.figsize'] = (10.0, 8.0) # set default size of plots\n",
    "plt.rcParams['image.interpolation'] = 'nearest'\n",
    "plt.rcParams['image.cmap'] = 'gray'\n",
    "\n",
    "# for auto-reloading extenrnal modules\n",
    "# see http://stackoverflow.com/questions/1907993/autoreload-of-modules-in-ipython\n",
    "%load_ext autoreload\n",
    "%autoreload 2"
   ]
  },
  {
   "cell_type": "code",
   "execution_count": 2,
   "metadata": {
    "tags": [
     "pdf-ignore"
    ]
   },
   "outputs": [
    {
     "name": "stdout",
     "output_type": "stream",
     "text": [
      "Train data shape:  (49000, 3073)\n",
      "Train labels shape:  (49000,)\n",
      "Validation data shape:  (1000, 3073)\n",
      "Validation labels shape:  (1000,)\n",
      "Test data shape:  (1000, 3073)\n",
      "Test labels shape:  (1000,)\n",
      "dev data shape:  (500, 3073)\n",
      "dev labels shape:  (500,)\n"
     ]
    }
   ],
   "source": [
    "def get_CIFAR10_data(num_training=49000, num_validation=1000, num_test=1000, num_dev=500):\n",
    "    \"\"\"\n",
    "    Load the CIFAR-10 dataset from disk and perform preprocessing to prepare\n",
    "    it for the linear classifier. These are the same steps as we used for the\n",
    "    SVM, but condensed to a single function.  \n",
    "    \"\"\"\n",
    "    # Load the raw CIFAR-10 data\n",
    "    cifar10_dir = 'cs231n/datasets/cifar-10-batches-py'\n",
    "    \n",
    "    # Cleaning up variables to prevent loading data multiple times (which may cause memory issue)\n",
    "    try:\n",
    "       del X_train, y_train\n",
    "       del X_test, y_test\n",
    "       print('Clear previously loaded data.')\n",
    "    except:\n",
    "       pass\n",
    "\n",
    "    X_train, y_train, X_test, y_test = load_CIFAR10(cifar10_dir)\n",
    "    \n",
    "    # subsample the data\n",
    "    mask = list(range(num_training, num_training + num_validation))\n",
    "    X_val = X_train[mask]\n",
    "    y_val = y_train[mask]\n",
    "    mask = list(range(num_training))\n",
    "    X_train = X_train[mask]\n",
    "    y_train = y_train[mask]\n",
    "    mask = list(range(num_test))\n",
    "    X_test = X_test[mask]\n",
    "    y_test = y_test[mask]\n",
    "    mask = np.random.choice(num_training, num_dev, replace=False)\n",
    "    X_dev = X_train[mask]\n",
    "    y_dev = y_train[mask]\n",
    "    \n",
    "    # Preprocessing: reshape the image data into rows\n",
    "    X_train = np.reshape(X_train, (X_train.shape[0], -1))\n",
    "    X_val = np.reshape(X_val, (X_val.shape[0], -1))\n",
    "    X_test = np.reshape(X_test, (X_test.shape[0], -1))\n",
    "    X_dev = np.reshape(X_dev, (X_dev.shape[0], -1))\n",
    "    \n",
    "    # Normalize the data: subtract the mean image\n",
    "    mean_image = np.mean(X_train, axis = 0)\n",
    "    X_train -= mean_image\n",
    "    X_val -= mean_image\n",
    "    X_test -= mean_image\n",
    "    X_dev -= mean_image\n",
    "    \n",
    "    # add bias dimension and transform into columns\n",
    "    X_train = np.hstack([X_train, np.ones((X_train.shape[0], 1))])\n",
    "    X_val = np.hstack([X_val, np.ones((X_val.shape[0], 1))])\n",
    "    X_test = np.hstack([X_test, np.ones((X_test.shape[0], 1))])\n",
    "    X_dev = np.hstack([X_dev, np.ones((X_dev.shape[0], 1))])\n",
    "    \n",
    "    return X_train, y_train, X_val, y_val, X_test, y_test, X_dev, y_dev\n",
    "\n",
    "\n",
    "# Invoke the above function to get our data.\n",
    "X_train, y_train, X_val, y_val, X_test, y_test, X_dev, y_dev = get_CIFAR10_data()\n",
    "print('Train data shape: ', X_train.shape)\n",
    "print('Train labels shape: ', y_train.shape)\n",
    "print('Validation data shape: ', X_val.shape)\n",
    "print('Validation labels shape: ', y_val.shape)\n",
    "print('Test data shape: ', X_test.shape)\n",
    "print('Test labels shape: ', y_test.shape)\n",
    "print('dev data shape: ', X_dev.shape)\n",
    "print('dev labels shape: ', y_dev.shape)"
   ]
  },
  {
   "cell_type": "markdown",
   "metadata": {},
   "source": [
    "## Softmax Classifier\n",
    "\n",
    "Your code for this section will all be written inside **cs231n/classifiers/softmax.py**. \n"
   ]
  },
  {
   "cell_type": "code",
   "execution_count": 4,
   "metadata": {},
   "outputs": [
    {
     "name": "stdout",
     "output_type": "stream",
     "text": [
      "loss: 2.310293\n",
      "sanity check: 2.302585\n"
     ]
    }
   ],
   "source": [
    "# First implement the naive softmax loss function with nested loops.\n",
    "# Open the file cs231n/classifiers/softmax.py and implement the\n",
    "# softmax_loss_naive function.\n",
    "\n",
    "from cs231n.classifiers.softmax import softmax_loss_naive\n",
    "import time\n",
    "\n",
    "# Generate a random softmax weight matrix and use it to compute the loss.\n",
    "W = np.random.randn(3073, 10) * 0.0001\n",
    "loss, grad = softmax_loss_naive(W, X_dev, y_dev, 0.0)\n",
    "\n",
    "# As a rough sanity check, our loss should be something close to -log(0.1).\n",
    "print('loss: %f' % loss)\n",
    "print('sanity check: %f' % (-np.log(0.1)))"
   ]
  },
  {
   "cell_type": "markdown",
   "metadata": {
    "tags": [
     "pdf-inline"
    ]
   },
   "source": [
    "**Inline Question 1**\n",
    "\n",
    "Why do we expect our loss to be close to -log(0.1)? Explain briefly.**\n",
    "\n",
    "$\\color{blue}{\\textit Your Answer:}$ *Fill this in* \n",
    "\n"
   ]
  },
  {
   "cell_type": "code",
   "execution_count": 6,
   "metadata": {},
   "outputs": [
    {
     "name": "stdout",
     "output_type": "stream",
     "text": [
      "\n",
      " Without reg:\n",
      "\n",
      "numerical: -0.600527 analytic: -0.626005, relative error: 2.077282e-02\n",
      "numerical: 1.718407 analytic: 1.551392, relative error: 5.107781e-02\n",
      "numerical: -3.354381 analytic: -3.069049, relative error: 4.442055e-02\n",
      "numerical: 3.029622 analytic: 3.003897, relative error: 4.263628e-03\n",
      "numerical: 0.407623 analytic: 0.176833, relative error: 3.948802e-01\n",
      "numerical: -0.081604 analytic: -0.282259, relative error: 5.514596e-01\n",
      "numerical: -3.988491 analytic: -3.682074, relative error: 3.994708e-02\n",
      "numerical: 1.673710 analytic: 1.492918, relative error: 5.709277e-02\n",
      "numerical: -0.775284 analytic: -0.757432, relative error: 1.164702e-02\n",
      "numerical: -1.936935 analytic: -1.789671, relative error: 3.951699e-02\n",
      "\n",
      " With reg:\n",
      "\n",
      "numerical: 1.389197 analytic: 1.184359, relative error: 7.959354e-02\n",
      "numerical: 0.779135 analytic: 0.784090, relative error: 3.169955e-03\n",
      "numerical: 2.567603 analytic: 2.270704, relative error: 6.136422e-02\n",
      "numerical: 1.950872 analytic: 1.989649, relative error: 9.840664e-03\n",
      "numerical: 1.964343 analytic: 1.586635, relative error: 1.063673e-01\n",
      "numerical: 0.650158 analytic: 0.812339, relative error: 1.108931e-01\n",
      "numerical: 1.609383 analytic: 1.618928, relative error: 2.956580e-03\n",
      "numerical: 0.779614 analytic: 0.763661, relative error: 1.033671e-02\n",
      "numerical: -1.059022 analytic: -1.000193, relative error: 2.856852e-02\n",
      "numerical: 2.077253 analytic: 1.710197, relative error: 9.691377e-02\n"
     ]
    }
   ],
   "source": [
    "# Complete the implementation of softmax_loss_naive and implement a (naive)\n",
    "# version of the gradient that uses nested loops.\n",
    "loss, grad = softmax_loss_naive(W, X_dev, y_dev, 0.0)\n",
    "\n",
    "# As we did for the SVM, use numeric gradient checking as a debugging tool.\n",
    "# The numeric gradient should be close to the analytic gradient.\n",
    "print('\\n Without reg:\\n')\n",
    "from cs231n.gradient_check import grad_check_sparse\n",
    "f = lambda w: softmax_loss_naive(w, X_dev, y_dev, 0.0)[0]\n",
    "grad_numerical = grad_check_sparse(f, W, grad, 10)\n",
    "print('\\n With reg:\\n')\n",
    "# similar to SVM case, do another gradient check with regularization\n",
    "loss, grad = softmax_loss_naive(W, X_dev, y_dev, 5e1)\n",
    "f = lambda w: softmax_loss_naive(w, X_dev, y_dev, 5e1)[0]\n",
    "grad_numerical = grad_check_sparse(f, W, grad, 10)"
   ]
  },
  {
   "cell_type": "code",
   "execution_count": 34,
   "metadata": {},
   "outputs": [],
   "source": [
    "num_classes = W.shape[1]\n",
    "num_train = X_dev.shape[0]\n",
    "f = X_dev.dot(W)\n",
    "f -= f.max(axis=1).reshape(num_train, 1) # for numrical stability\n",
    "f = np.exp(f)\n",
    "q_dist = np.sum(f, axis=1).reshape(num_train, 1) # \"Distribution\" of all classes\n",
    "p_dist = f[np.arange(num_train), y_dev].reshape(num_train, 1) # \"Disribution\" of the correct class"
   ]
  },
  {
   "cell_type": "code",
   "execution_count": 35,
   "metadata": {},
   "outputs": [],
   "source": [
    "loss = (-1) * np.log(p_dist / q_dist)"
   ]
  },
  {
   "cell_type": "code",
   "execution_count": 36,
   "metadata": {},
   "outputs": [
    {
     "data": {
      "text/plain": [
       "2.310293352608414"
      ]
     },
     "execution_count": 36,
     "metadata": {},
     "output_type": "execute_result"
    }
   ],
   "source": [
    "loss.sum()/500"
   ]
  },
  {
   "cell_type": "code",
   "execution_count": 56,
   "metadata": {},
   "outputs": [],
   "source": [
    "mask = f / q_dist.reshape(num_train, 1)\n",
    "mask[range(num_train), y_dev] = ((-1) * (q_dist - p_dist) / q_dist).reshape(-1)\n",
    "dW = X_dev.T.dot(mask)\n",
    "dW /= num_train\n",
    "dW += 2*0.000005*W"
   ]
  },
  {
   "cell_type": "code",
   "execution_count": 58,
   "metadata": {},
   "outputs": [
    {
     "data": {
      "text/plain": [
       "(3073, 10)"
      ]
     },
     "execution_count": 58,
     "metadata": {},
     "output_type": "execute_result"
    }
   ],
   "source": [
    "dW.shape"
   ]
  },
  {
   "cell_type": "code",
   "execution_count": 61,
   "metadata": {},
   "outputs": [
    {
     "name": "stdout",
     "output_type": "stream",
     "text": [
      "naive loss: 2.310293e+00 computed in 0.125599s\n",
      "vectorized loss: 2.310293e+00 computed in 0.017268s\n",
      "Loss difference: 0.000000\n",
      "Gradient difference: 34.624382\n"
     ]
    }
   ],
   "source": [
    "# Now that we have a naive implementation of the softmax loss function and its gradient,\n",
    "# implement a vectorized version in softmax_loss_vectorized.\n",
    "# The two versions should compute the same results, but the vectorized version should be\n",
    "# much faster.\n",
    "tic = time.time()\n",
    "loss_naive, grad_naive = softmax_loss_naive(W, X_dev, y_dev, 0.000005)\n",
    "toc = time.time()\n",
    "print('naive loss: %e computed in %fs' % (loss_naive, toc - tic))\n",
    "\n",
    "from cs231n.classifiers.softmax import softmax_loss_vectorized\n",
    "tic = time.time()\n",
    "loss_vectorized, grad_vectorized = softmax_loss_vectorized(W, X_dev, y_dev, 0.000005)\n",
    "toc = time.time()\n",
    "# print(loss_vectorized)\n",
    "print('vectorized loss: %e computed in %fs' % (loss_vectorized, toc - tic))\n",
    "\n",
    "# As we did for the SVM, we use the Frobenius norm to compare the two versions\n",
    "# of the gradient.\n",
    "grad_difference = np.linalg.norm(grad_naive - grad_vectorized, ord='fro')\n",
    "print('Loss difference: %f' % np.abs(loss_naive - loss_vectorized))\n",
    "print('Gradient difference: %f' % grad_difference)"
   ]
  },
  {
   "cell_type": "code",
   "execution_count": 64,
   "metadata": {
    "tags": [
     "code"
    ]
   },
   "outputs": [
    {
     "name": "stdout",
     "output_type": "stream",
     "text": [
      "lr 1.000000e-07 reg 2.500000e+04 train accuracy: 0.326939 val accuracy: 0.341000\n",
      "lr 1.000000e-07 reg 2.916667e+04 train accuracy: 0.326082 val accuracy: 0.341000\n",
      "lr 1.000000e-07 reg 3.333333e+04 train accuracy: 0.319673 val accuracy: 0.334000\n",
      "lr 1.000000e-07 reg 3.750000e+04 train accuracy: 0.310959 val accuracy: 0.334000\n",
      "lr 1.000000e-07 reg 4.166667e+04 train accuracy: 0.311857 val accuracy: 0.328000\n",
      "lr 1.000000e-07 reg 4.583333e+04 train accuracy: 0.312776 val accuracy: 0.326000\n",
      "lr 1.000000e-07 reg 5.000000e+04 train accuracy: 0.307429 val accuracy: 0.326000\n",
      "lr 1.666667e-07 reg 2.500000e+04 train accuracy: 0.329245 val accuracy: 0.344000\n",
      "lr 1.666667e-07 reg 2.916667e+04 train accuracy: 0.319735 val accuracy: 0.346000\n",
      "lr 1.666667e-07 reg 3.333333e+04 train accuracy: 0.310122 val accuracy: 0.330000\n",
      "lr 1.666667e-07 reg 3.750000e+04 train accuracy: 0.308898 val accuracy: 0.329000\n",
      "lr 1.666667e-07 reg 4.166667e+04 train accuracy: 0.312061 val accuracy: 0.329000\n",
      "lr 1.666667e-07 reg 4.583333e+04 train accuracy: 0.316286 val accuracy: 0.327000\n",
      "lr 1.666667e-07 reg 5.000000e+04 train accuracy: 0.305571 val accuracy: 0.315000\n",
      "lr 2.333333e-07 reg 2.500000e+04 train accuracy: 0.328898 val accuracy: 0.336000\n",
      "lr 2.333333e-07 reg 2.916667e+04 train accuracy: 0.321531 val accuracy: 0.337000\n",
      "lr 2.333333e-07 reg 3.333333e+04 train accuracy: 0.323796 val accuracy: 0.342000\n",
      "lr 2.333333e-07 reg 3.750000e+04 train accuracy: 0.304551 val accuracy: 0.332000\n",
      "lr 2.333333e-07 reg 4.166667e+04 train accuracy: 0.310633 val accuracy: 0.324000\n",
      "lr 2.333333e-07 reg 4.583333e+04 train accuracy: 0.309347 val accuracy: 0.325000\n",
      "lr 2.333333e-07 reg 5.000000e+04 train accuracy: 0.299837 val accuracy: 0.317000\n",
      "lr 3.000000e-07 reg 2.500000e+04 train accuracy: 0.326286 val accuracy: 0.351000\n",
      "lr 3.000000e-07 reg 2.916667e+04 train accuracy: 0.319143 val accuracy: 0.336000\n",
      "lr 3.000000e-07 reg 3.333333e+04 train accuracy: 0.324408 val accuracy: 0.329000\n",
      "lr 3.000000e-07 reg 3.750000e+04 train accuracy: 0.304041 val accuracy: 0.326000\n",
      "lr 3.000000e-07 reg 4.166667e+04 train accuracy: 0.312020 val accuracy: 0.328000\n",
      "lr 3.000000e-07 reg 4.583333e+04 train accuracy: 0.316939 val accuracy: 0.333000\n",
      "lr 3.000000e-07 reg 5.000000e+04 train accuracy: 0.302102 val accuracy: 0.321000\n",
      "lr 3.666667e-07 reg 2.500000e+04 train accuracy: 0.328918 val accuracy: 0.346000\n",
      "lr 3.666667e-07 reg 2.916667e+04 train accuracy: 0.326837 val accuracy: 0.349000\n",
      "lr 3.666667e-07 reg 3.333333e+04 train accuracy: 0.317490 val accuracy: 0.321000\n",
      "lr 3.666667e-07 reg 3.750000e+04 train accuracy: 0.315633 val accuracy: 0.317000\n",
      "lr 3.666667e-07 reg 4.166667e+04 train accuracy: 0.305041 val accuracy: 0.316000\n",
      "lr 3.666667e-07 reg 4.583333e+04 train accuracy: 0.310041 val accuracy: 0.319000\n",
      "lr 3.666667e-07 reg 5.000000e+04 train accuracy: 0.306265 val accuracy: 0.311000\n",
      "lr 4.333333e-07 reg 2.500000e+04 train accuracy: 0.328531 val accuracy: 0.343000\n",
      "lr 4.333333e-07 reg 2.916667e+04 train accuracy: 0.312735 val accuracy: 0.326000\n",
      "lr 4.333333e-07 reg 3.333333e+04 train accuracy: 0.311918 val accuracy: 0.324000\n",
      "lr 4.333333e-07 reg 3.750000e+04 train accuracy: 0.312469 val accuracy: 0.326000\n",
      "lr 4.333333e-07 reg 4.166667e+04 train accuracy: 0.316510 val accuracy: 0.318000\n",
      "lr 4.333333e-07 reg 4.583333e+04 train accuracy: 0.312082 val accuracy: 0.315000\n",
      "lr 4.333333e-07 reg 5.000000e+04 train accuracy: 0.310510 val accuracy: 0.324000\n",
      "lr 5.000000e-07 reg 2.500000e+04 train accuracy: 0.312980 val accuracy: 0.322000\n",
      "lr 5.000000e-07 reg 2.916667e+04 train accuracy: 0.317551 val accuracy: 0.318000\n",
      "lr 5.000000e-07 reg 3.333333e+04 train accuracy: 0.308980 val accuracy: 0.329000\n",
      "lr 5.000000e-07 reg 3.750000e+04 train accuracy: 0.304429 val accuracy: 0.316000\n",
      "lr 5.000000e-07 reg 4.166667e+04 train accuracy: 0.302122 val accuracy: 0.318000\n",
      "lr 5.000000e-07 reg 4.583333e+04 train accuracy: 0.318633 val accuracy: 0.341000\n",
      "lr 5.000000e-07 reg 5.000000e+04 train accuracy: 0.308898 val accuracy: 0.315000\n",
      "best validation accuracy achieved during cross-validation: 0.351000\n"
     ]
    }
   ],
   "source": [
    "# Use the validation set to tune hyperparameters (regularization strength and\n",
    "# learning rate). You should experiment with different ranges for the learning\n",
    "# rates and regularization strengths; if you are careful you should be able to\n",
    "# get a classification accuracy of over 0.35 on the validation set.\n",
    "from cs231n.classifiers import Softmax\n",
    "results = {}\n",
    "best_val = -1\n",
    "best_softmax = None\n",
    "learning_rates = [1e-7, 5e-7]\n",
    "regularization_strengths = [2.5e4, 5e4]\n",
    "\n",
    "################################################################################\n",
    "# TODO:                                                                        #\n",
    "# Use the validation set to set the learning rate and regularization strength. #\n",
    "# This should be identical to the validation that you did for the SVM; save    #\n",
    "# the best trained softmax classifer in best_softmax.                          #\n",
    "################################################################################\n",
    "# *****START OF YOUR CODE (DO NOT DELETE/MODIFY THIS LINE)*****\n",
    "for lr in np.linspace(learning_rates[0], learning_rates[1], num=7):\n",
    "    for reg in np.linspace(regularization_strengths[0], regularization_strengths[1], num=7):\n",
    "        softmax = Softmax()\n",
    "        softmax.train(X_train, y_train, learning_rate=lr, reg=reg,\n",
    "                      num_iters=1500, verbose=False)\n",
    "        y_train_pred = softmax.predict(X_train)\n",
    "        train_acc = np.sum(y_train == y_train_pred) / y_train.shape[0]\n",
    "        y_val_pred = softmax.predict(X_val)\n",
    "        val_acc = np.sum(y_val == y_val_pred) / y_val.shape[0]\n",
    "        results[(lr,reg)] = (train_acc,val_acc)\n",
    "        if best_val<val_acc:\n",
    "            best_val = val_acc\n",
    "            best_softmax = softmax\n",
    "pass\n",
    "\n",
    "# *****END OF YOUR CODE (DO NOT DELETE/MODIFY THIS LINE)*****\n",
    "    \n",
    "# Print out results.\n",
    "for lr, reg in sorted(results):\n",
    "    train_accuracy, val_accuracy = results[(lr, reg)]\n",
    "    print('lr %e reg %e train accuracy: %f val accuracy: %f' % (\n",
    "                lr, reg, train_accuracy, val_accuracy))\n",
    "    \n",
    "print('best validation accuracy achieved during cross-validation: %f' % best_val)"
   ]
  },
  {
   "cell_type": "code",
   "execution_count": 65,
   "metadata": {},
   "outputs": [
    {
     "name": "stdout",
     "output_type": "stream",
     "text": [
      "softmax on raw pixels final test set accuracy: 0.330000\n"
     ]
    }
   ],
   "source": [
    "# evaluate on test set\n",
    "# Evaluate the best softmax on test set\n",
    "y_test_pred = best_softmax.predict(X_test)\n",
    "test_accuracy = np.mean(y_test == y_test_pred)\n",
    "print('softmax on raw pixels final test set accuracy: %f' % (test_accuracy, ))"
   ]
  },
  {
   "cell_type": "markdown",
   "metadata": {
    "tags": [
     "pdf-inline"
    ]
   },
   "source": [
    "**Inline Question 2** - *True or False*\n",
    "\n",
    "Suppose the overall training loss is defined as the sum of the per-datapoint loss over all training examples. It is possible to add a new datapoint to a training set that would leave the SVM loss unchanged, but this is not the case with the Softmax classifier loss.\n",
    "\n",
    "$\\color{blue}{\\textit Your Answer:}$\n",
    "\n",
    "\n",
    "$\\color{blue}{\\textit Your Explanation:}$\n",
    "\n"
   ]
  },
  {
   "cell_type": "code",
   "execution_count": 66,
   "metadata": {
    "scrolled": false
   },
   "outputs": [
    {
     "data": {
      "image/png": "[encoded data removed]",
      "text/plain": [
       "<matplotlib.figure.Figure at 0x1dee85939b0>"
      ]
     },
     "metadata": {},
     "output_type": "display_data"
    }
   ],
   "source": [
    "# Visualize the learned weights for each class\n",
    "w = best_softmax.W[:-1,:] # strip out the bias\n",
    "w = w.reshape(32, 32, 3, 10)\n",
    "\n",
    "w_min, w_max = np.min(w), np.max(w)\n",
    "\n",
    "classes = ['plane', 'car', 'bird', 'cat', 'deer', 'dog', 'frog', 'horse', 'ship', 'truck']\n",
    "for i in range(10):\n",
    "    plt.subplot(2, 5, i + 1)\n",
    "    \n",
    "    # Rescale the weights to be between 0 and 255\n",
    "    wimg = 255.0 * (w[:, :, :, i].squeeze() - w_min) / (w_max - w_min)\n",
    "    plt.imshow(wimg.astype('uint8'))\n",
    "    plt.axis('off')\n",
    "    plt.title(classes[i])"
   ]
  }
 ],
 "metadata": {
  "kernelspec": {
   "display_name": "Python 3",
   "language": "python",
   "name": "python3"
  },
  "language_info": {
   "codemirror_mode": {
    "name": "ipython",
    "version": 3
   },
   "file_extension": ".py",
   "mimetype": "text/x-python",
   "name": "python",
   "nbconvert_exporter": "python",
   "pygments_lexer": "ipython3",
   "version": "3.5.3"
  }
 },
 "nbformat": 4,
 "nbformat_minor": 1
}
