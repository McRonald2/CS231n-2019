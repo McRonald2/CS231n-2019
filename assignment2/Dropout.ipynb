{
 "cells": [
  {
   "cell_type": "markdown",
   "metadata": {
    "tags": [
     "pdf-title"
    ]
   },
   "source": [
    "# Dropout\n",
    "Dropout [1] is a technique for regularizing neural networks by randomly setting some output activations to zero during the forward pass. In this exercise you will implement a dropout layer and modify your fully-connected network to optionally use dropout.\n",
    "\n",
    "[1] [Geoffrey E. Hinton et al, \"Improving neural networks by preventing co-adaptation of feature detectors\", arXiv 2012](https://arxiv.org/abs/1207.0580)"
   ]
  },
  {
   "cell_type": "code",
   "execution_count": 4,
   "metadata": {
    "tags": [
     "pdf-ignore"
    ]
   },
   "outputs": [
    {
     "name": "stdout",
     "output_type": "stream",
     "text": [
      "run the following from the cs231n directory and try again:\n",
      "python setup.py build_ext --inplace\n",
      "You may also need to restart your iPython kernel\n"
     ]
    }
   ],
   "source": [
    "# As usual, a bit of setup\n",
    "from __future__ import print_function\n",
    "import time\n",
    "import numpy as np\n",
    "import matplotlib.pyplot as plt\n",
    "from cs231n.classifiers.fc_net import *\n",
    "from cs231n.data_utils import get_CIFAR10_data\n",
    "from cs231n.gradient_check import eval_numerical_gradient, eval_numerical_gradient_array\n",
    "from cs231n.solver import Solver\n",
    "\n",
    "%matplotlib inline\n",
    "plt.rcParams['figure.figsize'] = (10.0, 8.0) # set default size of plots\n",
    "plt.rcParams['image.interpolation'] = 'nearest'\n",
    "plt.rcParams['image.cmap'] = 'gray'\n",
    "\n",
    "# for auto-reloading external modules\n",
    "# see http://stackoverflow.com/questions/1907993/autoreload-of-modules-in-ipython\n",
    "%load_ext autoreload\n",
    "%autoreload 2\n",
    "\n",
    "def rel_error(x, y):\n",
    "  \"\"\" returns relative error \"\"\"\n",
    "  return np.max(np.abs(x - y) / (np.maximum(1e-8, np.abs(x) + np.abs(y))))"
   ]
  },
  {
   "cell_type": "code",
   "execution_count": 5,
   "metadata": {
    "tags": [
     "pdf-ignore"
    ]
   },
   "outputs": [
    {
     "name": "stdout",
     "output_type": "stream",
     "text": [
      "X_train:  (49000, 3, 32, 32)\n",
      "y_test:  (1000,)\n",
      "X_test:  (1000, 3, 32, 32)\n",
      "y_val:  (1000,)\n",
      "X_val:  (1000, 3, 32, 32)\n",
      "y_train:  (49000,)\n"
     ]
    }
   ],
   "source": [
    "# Load the (preprocessed) CIFAR10 data.\n",
    "\n",
    "data = get_CIFAR10_data()\n",
    "for k, v in data.items():\n",
    "  print('%s: ' % k, v.shape)"
   ]
  },
  {
   "cell_type": "markdown",
   "metadata": {},
   "source": [
    "# Dropout forward pass\n",
    "In the file `cs231n/layers.py`, implement the forward pass for dropout. Since dropout behaves differently during training and testing, make sure to implement the operation for both modes.\n",
    "\n",
    "Once you have done so, run the cell below to test your implementation."
   ]
  },
  {
   "cell_type": "code",
   "execution_count": 7,
   "metadata": {},
   "outputs": [
    {
     "name": "stdout",
     "output_type": "stream",
     "text": [
      "Running tests with p =  0.25\n",
      "Mean of input:  10.000207878477502\n",
      "Mean of train-time output:  10.014059116977283\n",
      "Mean of test-time output:  10.000207878477502\n",
      "Fraction of train-time output set to zero:  0.749784\n",
      "Fraction of test-time output set to zero:  0.0\n",
      "\n",
      "Running tests with p =  0.4\n",
      "Mean of input:  10.000207878477502\n",
      "Mean of train-time output:  9.977917658761159\n",
      "Mean of test-time output:  10.000207878477502\n",
      "Fraction of train-time output set to zero:  0.600796\n",
      "Fraction of test-time output set to zero:  0.0\n",
      "\n",
      "Running tests with p =  0.7\n",
      "Mean of input:  10.000207878477502\n",
      "Mean of train-time output:  9.987811912159426\n",
      "Mean of test-time output:  10.000207878477502\n",
      "Fraction of train-time output set to zero:  0.30074\n",
      "Fraction of test-time output set to zero:  0.0\n",
      "\n"
     ]
    }
   ],
   "source": [
    "np.random.seed(231)\n",
    "x = np.random.randn(500, 500) + 10\n",
    "\n",
    "for p in [0.25, 0.4, 0.7]:\n",
    "  out, _ = dropout_forward(x, {'mode': 'train', 'p': p})\n",
    "  out_test, _ = dropout_forward(x, {'mode': 'test', 'p': p})\n",
    "\n",
    "  print('Running tests with p = ', p)\n",
    "  print('Mean of input: ', x.mean())\n",
    "  print('Mean of train-time output: ', out.mean())\n",
    "  print('Mean of test-time output: ', out_test.mean())\n",
    "  print('Fraction of train-time output set to zero: ', (out == 0).mean())\n",
    "  print('Fraction of test-time output set to zero: ', (out_test == 0).mean())\n",
    "  print()"
   ]
  },
  {
   "cell_type": "markdown",
   "metadata": {},
   "source": [
    "# Dropout backward pass\n",
    "In the file `cs231n/layers.py`, implement the backward pass for dropout. After doing so, run the following cell to numerically gradient-check your implementation."
   ]
  },
  {
   "cell_type": "code",
   "execution_count": 8,
   "metadata": {},
   "outputs": [
    {
     "name": "stdout",
     "output_type": "stream",
     "text": [
      "dx relative error:  5.44560814873387e-11\n"
     ]
    }
   ],
   "source": [
    "np.random.seed(231)\n",
    "x = np.random.randn(10, 10) + 10\n",
    "dout = np.random.randn(*x.shape)\n",
    "\n",
    "dropout_param = {'mode': 'train', 'p': 0.2, 'seed': 123}\n",
    "out, cache = dropout_forward(x, dropout_param)\n",
    "dx = dropout_backward(dout, cache)\n",
    "dx_num = eval_numerical_gradient_array(lambda xx: dropout_forward(xx, dropout_param)[0], x, dout)\n",
    "\n",
    "# Error should be around e-10 or less\n",
    "print('dx relative error: ', rel_error(dx, dx_num))"
   ]
  },
  {
   "cell_type": "markdown",
   "metadata": {
    "tags": [
     "pdf-inline"
    ]
   },
   "source": [
    "## Inline Question 1:\n",
    "What happens if we do not divide the values being passed through inverse dropout by `p` in the dropout layer? Why does that happen?\n",
    "\n",
    "## Answer:\n",
    "[FILL THIS IN]<br>\n",
    "Let's take for example `Z[l]=W[l]*A[l-1] + B[l]` where `A[l-1]` is the output of the previous layer. <br>\n",
    "During the process of dropout we're dropping units in out network, and thus the expected value of `Z[l]` is reduced by `p-1`.<br>\n",
    "What we want to do is to scale-up `A[l-1]` so that the expected value of `Z[l]` remains close to what it shuld have been without applying the dropout technique."
   ]
  },
  {
   "cell_type": "markdown",
   "metadata": {},
   "source": [
    "# Fully-connected nets with Dropout\n",
    "In the file `cs231n/classifiers/fc_net.py`, modify your implementation to use dropout. Specifically, if the constructor of the network receives a value that is not 1 for the `dropout` parameter, then the net should add a dropout layer immediately after every ReLU nonlinearity. After doing so, run the following to numerically gradient-check your implementation."
   ]
  },
  {
   "cell_type": "code",
   "execution_count": 13,
   "metadata": {},
   "outputs": [
    {
     "name": "stdout",
     "output_type": "stream",
     "text": [
      "Running check with dropout =  1\n",
      "Initial loss:  2.3004790897684924\n",
      "W1 relative error: 1.48e-07\n",
      "W2 relative error: 2.21e-05\n",
      "W3 relative error: 3.53e-07\n",
      "b1 relative error: 5.38e-09\n",
      "b2 relative error: 2.09e-09\n",
      "b3 relative error: 5.80e-11\n",
      "\n",
      "Running check with dropout =  0.75\n",
      "Initial loss:  2.3016482157750753\n",
      "W1 relative error: 6.96e-07\n",
      "W2 relative error: 5.01e-06\n",
      "W3 relative error: 2.96e-07\n",
      "b1 relative error: 1.48e-08\n",
      "b2 relative error: 1.72e-09\n",
      "b3 relative error: 1.32e-10\n",
      "\n",
      "Running check with dropout =  0.5\n",
      "Initial loss:  2.294963257976082\n",
      "W1 relative error: 1.20e-07\n",
      "W2 relative error: 5.54e-07\n",
      "W3 relative error: 1.48e-06\n",
      "b1 relative error: 3.30e-09\n",
      "b2 relative error: 4.40e-09\n",
      "b3 relative error: 1.25e-10\n",
      "\n"
     ]
    }
   ],
   "source": [
    "np.random.seed(231)\n",
    "N, D, H1, H2, C = 2, 15, 20, 30, 10\n",
    "X = np.random.randn(N, D)\n",
    "y = np.random.randint(C, size=(N,))\n",
    "\n",
    "for dropout in [1, 0.75, 0.5]:\n",
    "  print('Running check with dropout = ', dropout)\n",
    "  model = FullyConnectedNet([H1, H2], input_dim=D, num_classes=C,\n",
    "                            weight_scale=5e-2, dtype=np.float64,\n",
    "                            dropout=dropout, seed=123)\n",
    "\n",
    "  loss, grads = model.loss(X, y)\n",
    "  print('Initial loss: ', loss)\n",
    "  \n",
    "  # Relative errors should be around e-6 or less; Note that it's fine\n",
    "  # if for dropout=1 you have W2 error be on the order of e-5.\n",
    "  for name in sorted(grads):\n",
    "    f = lambda _: model.loss(X, y)[0]\n",
    "    grad_num = eval_numerical_gradient(f, model.params[name], verbose=False, h=1e-5)\n",
    "    print('%s relative error: %.2e' % (name, rel_error(grad_num, grads[name])))\n",
    "  print()"
   ]
  },
  {
   "cell_type": "markdown",
   "metadata": {},
   "source": [
    "# Regularization experiment\n",
    "As an experiment, we will train a pair of two-layer networks on 500 training examples: one will use no dropout, and one will use a keep probability of 0.25. We will then visualize the training and validation accuracies of the two networks over time."
   ]
  },
  {
   "cell_type": "markdown",
   "metadata": {},
   "source": [
    "### Baseline- without Normalization"
   ]
  },
  {
   "cell_type": "code",
   "execution_count": 35,
   "metadata": {
    "scrolled": false
   },
   "outputs": [
    {
     "name": "stdout",
     "output_type": "stream",
     "text": [
      "1\n",
      "(Iteration 1 / 125) loss: 7.856643\n",
      "(Epoch 0 / 25) train acc: 0.260000; val_acc: 0.184000\n",
      "(Epoch 1 / 25) train acc: 0.416000; val_acc: 0.258000\n",
      "(Epoch 2 / 25) train acc: 0.482000; val_acc: 0.276000\n",
      "(Epoch 3 / 25) train acc: 0.532000; val_acc: 0.277000\n",
      "(Epoch 4 / 25) train acc: 0.600000; val_acc: 0.271000\n",
      "(Epoch 5 / 25) train acc: 0.708000; val_acc: 0.299000\n",
      "(Epoch 6 / 25) train acc: 0.722000; val_acc: 0.282000\n",
      "(Epoch 7 / 25) train acc: 0.832000; val_acc: 0.255000\n",
      "(Epoch 8 / 25) train acc: 0.880000; val_acc: 0.268000\n",
      "(Epoch 9 / 25) train acc: 0.902000; val_acc: 0.277000\n",
      "(Epoch 10 / 25) train acc: 0.898000; val_acc: 0.261000\n",
      "(Epoch 11 / 25) train acc: 0.924000; val_acc: 0.263000\n",
      "(Epoch 12 / 25) train acc: 0.960000; val_acc: 0.298000\n",
      "(Epoch 13 / 25) train acc: 0.970000; val_acc: 0.314000\n",
      "(Epoch 14 / 25) train acc: 0.972000; val_acc: 0.312000\n",
      "(Epoch 15 / 25) train acc: 0.972000; val_acc: 0.309000\n",
      "(Epoch 16 / 25) train acc: 0.994000; val_acc: 0.302000\n",
      "(Epoch 17 / 25) train acc: 0.972000; val_acc: 0.307000\n",
      "(Epoch 18 / 25) train acc: 0.994000; val_acc: 0.307000\n",
      "(Epoch 19 / 25) train acc: 0.998000; val_acc: 0.313000\n",
      "(Epoch 20 / 25) train acc: 0.996000; val_acc: 0.299000\n",
      "(Iteration 101 / 125) loss: 0.000228\n",
      "(Epoch 21 / 25) train acc: 0.994000; val_acc: 0.304000\n",
      "(Epoch 22 / 25) train acc: 1.000000; val_acc: 0.296000\n",
      "(Epoch 23 / 25) train acc: 0.996000; val_acc: 0.288000\n",
      "(Epoch 24 / 25) train acc: 0.992000; val_acc: 0.289000\n",
      "(Epoch 25 / 25) train acc: 0.998000; val_acc: 0.291000\n",
      "\n",
      "0.25\n",
      "(Iteration 1 / 125) loss: 10.430469\n",
      "(Epoch 0 / 25) train acc: 0.264000; val_acc: 0.174000\n",
      "(Epoch 1 / 25) train acc: 0.388000; val_acc: 0.257000\n",
      "(Epoch 2 / 25) train acc: 0.500000; val_acc: 0.238000\n",
      "(Epoch 3 / 25) train acc: 0.614000; val_acc: 0.248000\n",
      "(Epoch 4 / 25) train acc: 0.704000; val_acc: 0.281000\n",
      "(Epoch 5 / 25) train acc: 0.754000; val_acc: 0.251000\n",
      "(Epoch 6 / 25) train acc: 0.820000; val_acc: 0.281000\n",
      "(Epoch 7 / 25) train acc: 0.872000; val_acc: 0.266000\n",
      "(Epoch 8 / 25) train acc: 0.896000; val_acc: 0.303000\n",
      "(Epoch 9 / 25) train acc: 0.914000; val_acc: 0.315000\n",
      "(Epoch 10 / 25) train acc: 0.912000; val_acc: 0.291000\n",
      "(Epoch 11 / 25) train acc: 0.920000; val_acc: 0.300000\n",
      "(Epoch 12 / 25) train acc: 0.930000; val_acc: 0.305000\n",
      "(Epoch 13 / 25) train acc: 0.928000; val_acc: 0.295000\n",
      "(Epoch 14 / 25) train acc: 0.952000; val_acc: 0.287000\n",
      "(Epoch 15 / 25) train acc: 0.964000; val_acc: 0.295000\n",
      "(Epoch 16 / 25) train acc: 0.964000; val_acc: 0.275000\n",
      "(Epoch 17 / 25) train acc: 0.956000; val_acc: 0.284000\n",
      "(Epoch 18 / 25) train acc: 0.982000; val_acc: 0.284000\n",
      "(Epoch 19 / 25) train acc: 0.974000; val_acc: 0.298000\n",
      "(Epoch 20 / 25) train acc: 0.982000; val_acc: 0.300000\n",
      "(Iteration 101 / 125) loss: 0.012759\n",
      "(Epoch 21 / 25) train acc: 0.984000; val_acc: 0.294000\n",
      "(Epoch 22 / 25) train acc: 0.980000; val_acc: 0.305000\n",
      "(Epoch 23 / 25) train acc: 0.986000; val_acc: 0.285000\n",
      "(Epoch 24 / 25) train acc: 0.958000; val_acc: 0.272000\n",
      "(Epoch 25 / 25) train acc: 0.984000; val_acc: 0.301000\n",
      "\n"
     ]
    }
   ],
   "source": [
    "# Train two identical nets, one with dropout and one without\n",
    "np.random.seed(231)\n",
    "num_train = 500\n",
    "small_data = {\n",
    "  'X_train': data['X_train'][:num_train],\n",
    "  'y_train': data['y_train'][:num_train],\n",
    "  'X_val': data['X_val'],\n",
    "  'y_val': data['y_val'],\n",
    "}\n",
    "\n",
    "solvers = {}\n",
    "dropout_choices = [1, 0.25]\n",
    "for dropout in dropout_choices:\n",
    "  model = FullyConnectedNet([500], dropout=dropout)\n",
    "  print(dropout)\n",
    "\n",
    "  solver = Solver(model, small_data,\n",
    "                  num_epochs=25, batch_size=100,\n",
    "                  update_rule='adam',\n",
    "                  optim_config={\n",
    "                    'learning_rate': 5e-4,\n",
    "                  },\n",
    "                  verbose=True, print_every=100)\n",
    "  solver.train()\n",
    "  solvers[dropout] = solver\n",
    "  print()"
   ]
  },
  {
   "cell_type": "code",
   "execution_count": 36,
   "metadata": {},
   "outputs": [
    {
     "data": {
      "image/png": "[encoded data removed]",
      "text/plain": [
       "<matplotlib.figure.Figure at 0x22a24b6a6d8>"
      ]
     },
     "metadata": {},
     "output_type": "display_data"
    }
   ],
   "source": [
    "# Plot train and validation accuracies of the two models\n",
    "\n",
    "train_accs = []\n",
    "val_accs = []\n",
    "for dropout in dropout_choices:\n",
    "  solver = solvers[dropout]\n",
    "  train_accs.append(solver.train_acc_history[-1])\n",
    "  val_accs.append(solver.val_acc_history[-1])\n",
    "\n",
    "plt.subplot(3, 1, 1)\n",
    "for dropout in dropout_choices:\n",
    "  plt.plot(solvers[dropout].train_acc_history, 'o', label='%.2f dropout' % dropout)\n",
    "plt.title('Train accuracy')\n",
    "plt.xlabel('Epoch')\n",
    "plt.ylabel('Accuracy')\n",
    "plt.legend(ncol=2, loc='lower right')\n",
    "  \n",
    "plt.subplot(3, 1, 2)\n",
    "for dropout in dropout_choices:\n",
    "  plt.plot(solvers[dropout].val_acc_history, 'o', label='%.2f dropout' % dropout)\n",
    "plt.title('Val accuracy')\n",
    "plt.xlabel('Epoch')\n",
    "plt.ylabel('Accuracy')\n",
    "plt.legend(ncol=2, loc='lower right')\n",
    "\n",
    "plt.gcf().set_size_inches(15, 15)\n",
    "plt.show()"
   ]
  },
  {
   "cell_type": "markdown",
   "metadata": {},
   "source": [
    "### Batch Normalization"
   ]
  },
  {
   "cell_type": "code",
   "execution_count": 41,
   "metadata": {
    "scrolled": false
   },
   "outputs": [
    {
     "name": "stdout",
     "output_type": "stream",
     "text": [
      "1\n",
      "(Iteration 1 / 125) loss: 2.300270\n",
      "(Epoch 0 / 25) train acc: 0.292000; val_acc: 0.211000\n",
      "(Epoch 1 / 25) train acc: 0.418000; val_acc: 0.290000\n",
      "(Epoch 2 / 25) train acc: 0.496000; val_acc: 0.323000\n",
      "(Epoch 3 / 25) train acc: 0.532000; val_acc: 0.329000\n",
      "(Epoch 4 / 25) train acc: 0.594000; val_acc: 0.336000\n",
      "(Epoch 5 / 25) train acc: 0.624000; val_acc: 0.337000\n",
      "(Epoch 6 / 25) train acc: 0.692000; val_acc: 0.339000\n",
      "(Epoch 7 / 25) train acc: 0.734000; val_acc: 0.327000\n",
      "(Epoch 8 / 25) train acc: 0.772000; val_acc: 0.327000\n",
      "(Epoch 9 / 25) train acc: 0.818000; val_acc: 0.329000\n",
      "(Epoch 10 / 25) train acc: 0.848000; val_acc: 0.319000\n",
      "(Epoch 11 / 25) train acc: 0.884000; val_acc: 0.325000\n",
      "(Epoch 12 / 25) train acc: 0.892000; val_acc: 0.315000\n",
      "(Epoch 13 / 25) train acc: 0.922000; val_acc: 0.319000\n",
      "(Epoch 14 / 25) train acc: 0.930000; val_acc: 0.313000\n",
      "(Epoch 15 / 25) train acc: 0.956000; val_acc: 0.295000\n",
      "(Epoch 16 / 25) train acc: 0.970000; val_acc: 0.315000\n",
      "(Epoch 17 / 25) train acc: 0.978000; val_acc: 0.299000\n",
      "(Epoch 18 / 25) train acc: 0.988000; val_acc: 0.303000\n",
      "(Epoch 19 / 25) train acc: 0.986000; val_acc: 0.288000\n",
      "(Epoch 20 / 25) train acc: 0.994000; val_acc: 0.302000\n",
      "(Iteration 101 / 125) loss: 0.206475\n",
      "(Epoch 21 / 25) train acc: 0.992000; val_acc: 0.301000\n",
      "(Epoch 22 / 25) train acc: 1.000000; val_acc: 0.288000\n",
      "(Epoch 23 / 25) train acc: 0.998000; val_acc: 0.284000\n",
      "(Epoch 24 / 25) train acc: 0.998000; val_acc: 0.290000\n",
      "(Epoch 25 / 25) train acc: 0.998000; val_acc: 0.287000\n",
      "\n",
      "0.25\n",
      "(Iteration 1 / 125) loss: 2.376248\n",
      "(Epoch 0 / 25) train acc: 0.246000; val_acc: 0.216000\n",
      "(Epoch 1 / 25) train acc: 0.358000; val_acc: 0.276000\n",
      "(Epoch 2 / 25) train acc: 0.414000; val_acc: 0.294000\n",
      "(Epoch 3 / 25) train acc: 0.426000; val_acc: 0.295000\n",
      "(Epoch 4 / 25) train acc: 0.454000; val_acc: 0.307000\n",
      "(Epoch 5 / 25) train acc: 0.478000; val_acc: 0.322000\n",
      "(Epoch 6 / 25) train acc: 0.510000; val_acc: 0.339000\n",
      "(Epoch 7 / 25) train acc: 0.568000; val_acc: 0.345000\n",
      "(Epoch 8 / 25) train acc: 0.588000; val_acc: 0.352000\n",
      "(Epoch 9 / 25) train acc: 0.602000; val_acc: 0.344000\n",
      "(Epoch 10 / 25) train acc: 0.636000; val_acc: 0.338000\n",
      "(Epoch 11 / 25) train acc: 0.662000; val_acc: 0.345000\n",
      "(Epoch 12 / 25) train acc: 0.674000; val_acc: 0.357000\n",
      "(Epoch 13 / 25) train acc: 0.704000; val_acc: 0.338000\n",
      "(Epoch 14 / 25) train acc: 0.710000; val_acc: 0.341000\n",
      "(Epoch 15 / 25) train acc: 0.734000; val_acc: 0.348000\n",
      "(Epoch 16 / 25) train acc: 0.752000; val_acc: 0.359000\n",
      "(Epoch 17 / 25) train acc: 0.784000; val_acc: 0.340000\n",
      "(Epoch 18 / 25) train acc: 0.794000; val_acc: 0.353000\n",
      "(Epoch 19 / 25) train acc: 0.814000; val_acc: 0.344000\n",
      "(Epoch 20 / 25) train acc: 0.840000; val_acc: 0.343000\n",
      "(Iteration 101 / 125) loss: 0.937442\n",
      "(Epoch 21 / 25) train acc: 0.850000; val_acc: 0.337000\n",
      "(Epoch 22 / 25) train acc: 0.854000; val_acc: 0.326000\n",
      "(Epoch 23 / 25) train acc: 0.862000; val_acc: 0.323000\n",
      "(Epoch 24 / 25) train acc: 0.886000; val_acc: 0.328000\n",
      "(Epoch 25 / 25) train acc: 0.904000; val_acc: 0.344000\n",
      "\n",
      "0.5\n",
      "(Iteration 1 / 125) loss: 2.363409\n",
      "(Epoch 0 / 25) train acc: 0.246000; val_acc: 0.192000\n",
      "(Epoch 1 / 25) train acc: 0.344000; val_acc: 0.250000\n",
      "(Epoch 2 / 25) train acc: 0.438000; val_acc: 0.290000\n",
      "(Epoch 3 / 25) train acc: 0.488000; val_acc: 0.311000\n",
      "(Epoch 4 / 25) train acc: 0.510000; val_acc: 0.316000\n",
      "(Epoch 5 / 25) train acc: 0.544000; val_acc: 0.333000\n",
      "(Epoch 6 / 25) train acc: 0.582000; val_acc: 0.335000\n",
      "(Epoch 7 / 25) train acc: 0.624000; val_acc: 0.341000\n",
      "(Epoch 8 / 25) train acc: 0.668000; val_acc: 0.347000\n",
      "(Epoch 9 / 25) train acc: 0.698000; val_acc: 0.333000\n",
      "(Epoch 10 / 25) train acc: 0.718000; val_acc: 0.351000\n",
      "(Epoch 11 / 25) train acc: 0.770000; val_acc: 0.358000\n",
      "(Epoch 12 / 25) train acc: 0.808000; val_acc: 0.341000\n",
      "(Epoch 13 / 25) train acc: 0.826000; val_acc: 0.351000\n",
      "(Epoch 14 / 25) train acc: 0.834000; val_acc: 0.341000\n",
      "(Epoch 15 / 25) train acc: 0.866000; val_acc: 0.327000\n",
      "(Epoch 16 / 25) train acc: 0.882000; val_acc: 0.320000\n",
      "(Epoch 17 / 25) train acc: 0.904000; val_acc: 0.313000\n",
      "(Epoch 18 / 25) train acc: 0.922000; val_acc: 0.319000\n",
      "(Epoch 19 / 25) train acc: 0.948000; val_acc: 0.324000\n",
      "(Epoch 20 / 25) train acc: 0.960000; val_acc: 0.326000\n",
      "(Iteration 101 / 125) loss: 0.505061\n",
      "(Epoch 21 / 25) train acc: 0.962000; val_acc: 0.311000\n",
      "(Epoch 22 / 25) train acc: 0.962000; val_acc: 0.316000\n",
      "(Epoch 23 / 25) train acc: 0.974000; val_acc: 0.314000\n",
      "(Epoch 24 / 25) train acc: 0.976000; val_acc: 0.307000\n",
      "(Epoch 25 / 25) train acc: 0.982000; val_acc: 0.301000\n",
      "\n"
     ]
    }
   ],
   "source": [
    "# Train two identical nets, one with dropout and one without\n",
    "np.random.seed(231)\n",
    "num_train = 500\n",
    "small_data = {\n",
    "  'X_train': data['X_train'][:num_train],\n",
    "  'y_train': data['y_train'][:num_train],\n",
    "  'X_val': data['X_val'],\n",
    "  'y_val': data['y_val'],\n",
    "}\n",
    "\n",
    "solvers = {}\n",
    "dropout_choices = [1, 0.25, 0.5]\n",
    "for dropout in dropout_choices:\n",
    "  model = FullyConnectedNet([500], dropout=dropout, normalization='batchnorm')\n",
    "  print(dropout)\n",
    "\n",
    "  solver = Solver(model, small_data,\n",
    "                  num_epochs=25, batch_size=100,\n",
    "                  update_rule='adam',\n",
    "                  optim_config={\n",
    "                    'learning_rate': 5e-4,\n",
    "                  },\n",
    "                  verbose=True, print_every=100)\n",
    "  solver.train()\n",
    "  solvers[dropout] = solver\n",
    "  print()"
   ]
  },
  {
   "cell_type": "code",
   "execution_count": 42,
   "metadata": {},
   "outputs": [
    {
     "data": {
      "image/png": "[encoded data removed]",
      "text/plain": [
       "<matplotlib.figure.Figure at 0x22a246e3f60>"
      ]
     },
     "metadata": {},
     "output_type": "display_data"
    }
   ],
   "source": [
    "# Plot train and validation accuracies of the two models\n",
    "\n",
    "train_accs = []\n",
    "val_accs = []\n",
    "for dropout in dropout_choices:\n",
    "  solver = solvers[dropout]\n",
    "  train_accs.append(solver.train_acc_history[-1])\n",
    "  val_accs.append(solver.val_acc_history[-1])\n",
    "\n",
    "plt.subplot(3, 1, 1)\n",
    "for dropout in dropout_choices:\n",
    "  plt.plot(solvers[dropout].train_acc_history, 'o', label='%.2f dropout' % dropout)\n",
    "plt.title('Train accuracy')\n",
    "plt.xlabel('Epoch')\n",
    "plt.ylabel('Accuracy')\n",
    "plt.legend(ncol=2, loc='lower right')\n",
    "  \n",
    "plt.subplot(3, 1, 2)\n",
    "for dropout in dropout_choices:\n",
    "  plt.plot(solvers[dropout].val_acc_history, 'o', label='%.2f dropout' % dropout)\n",
    "plt.title('Val accuracy')\n",
    "plt.xlabel('Epoch')\n",
    "plt.ylabel('Accuracy')\n",
    "plt.legend(ncol=2, loc='lower right')\n",
    "\n",
    "plt.gcf().set_size_inches(15, 15)\n",
    "plt.show()"
   ]
  },
  {
   "cell_type": "markdown",
   "metadata": {},
   "source": [
    "### Layer Normalization"
   ]
  },
  {
   "cell_type": "code",
   "execution_count": 39,
   "metadata": {
    "scrolled": false
   },
   "outputs": [
    {
     "name": "stdout",
     "output_type": "stream",
     "text": [
      "1\n",
      "(Iteration 1 / 125) loss: 2.302981\n",
      "(Epoch 0 / 25) train acc: 0.276000; val_acc: 0.211000\n",
      "(Epoch 1 / 25) train acc: 0.418000; val_acc: 0.291000\n",
      "(Epoch 2 / 25) train acc: 0.512000; val_acc: 0.315000\n",
      "(Epoch 3 / 25) train acc: 0.542000; val_acc: 0.312000\n",
      "(Epoch 4 / 25) train acc: 0.616000; val_acc: 0.319000\n",
      "(Epoch 5 / 25) train acc: 0.642000; val_acc: 0.329000\n",
      "(Epoch 6 / 25) train acc: 0.688000; val_acc: 0.329000\n",
      "(Epoch 7 / 25) train acc: 0.750000; val_acc: 0.325000\n",
      "(Epoch 8 / 25) train acc: 0.770000; val_acc: 0.329000\n",
      "(Epoch 9 / 25) train acc: 0.822000; val_acc: 0.321000\n",
      "(Epoch 10 / 25) train acc: 0.848000; val_acc: 0.315000\n",
      "(Epoch 11 / 25) train acc: 0.892000; val_acc: 0.329000\n",
      "(Epoch 12 / 25) train acc: 0.916000; val_acc: 0.328000\n",
      "(Epoch 13 / 25) train acc: 0.934000; val_acc: 0.317000\n",
      "(Epoch 14 / 25) train acc: 0.942000; val_acc: 0.311000\n",
      "(Epoch 15 / 25) train acc: 0.972000; val_acc: 0.309000\n",
      "(Epoch 16 / 25) train acc: 0.986000; val_acc: 0.324000\n",
      "(Epoch 17 / 25) train acc: 0.986000; val_acc: 0.293000\n",
      "(Epoch 18 / 25) train acc: 0.994000; val_acc: 0.314000\n",
      "(Epoch 19 / 25) train acc: 0.998000; val_acc: 0.289000\n",
      "(Epoch 20 / 25) train acc: 0.998000; val_acc: 0.298000\n",
      "(Iteration 101 / 125) loss: 0.114682\n",
      "(Epoch 21 / 25) train acc: 1.000000; val_acc: 0.304000\n",
      "(Epoch 22 / 25) train acc: 1.000000; val_acc: 0.301000\n",
      "(Epoch 23 / 25) train acc: 1.000000; val_acc: 0.284000\n",
      "(Epoch 24 / 25) train acc: 1.000000; val_acc: 0.308000\n",
      "(Epoch 25 / 25) train acc: 1.000000; val_acc: 0.304000\n",
      "\n",
      "0.25\n",
      "(Iteration 1 / 125) loss: 2.386383\n",
      "(Epoch 0 / 25) train acc: 0.258000; val_acc: 0.214000\n",
      "(Epoch 1 / 25) train acc: 0.352000; val_acc: 0.276000\n",
      "(Epoch 2 / 25) train acc: 0.404000; val_acc: 0.270000\n",
      "(Epoch 3 / 25) train acc: 0.428000; val_acc: 0.282000\n",
      "(Epoch 4 / 25) train acc: 0.466000; val_acc: 0.302000\n",
      "(Epoch 5 / 25) train acc: 0.514000; val_acc: 0.321000\n",
      "(Epoch 6 / 25) train acc: 0.536000; val_acc: 0.331000\n",
      "(Epoch 7 / 25) train acc: 0.568000; val_acc: 0.338000\n",
      "(Epoch 8 / 25) train acc: 0.586000; val_acc: 0.337000\n",
      "(Epoch 9 / 25) train acc: 0.602000; val_acc: 0.327000\n",
      "(Epoch 10 / 25) train acc: 0.638000; val_acc: 0.338000\n",
      "(Epoch 11 / 25) train acc: 0.664000; val_acc: 0.338000\n",
      "(Epoch 12 / 25) train acc: 0.704000; val_acc: 0.346000\n",
      "(Epoch 13 / 25) train acc: 0.722000; val_acc: 0.333000\n",
      "(Epoch 14 / 25) train acc: 0.718000; val_acc: 0.341000\n",
      "(Epoch 15 / 25) train acc: 0.764000; val_acc: 0.345000\n",
      "(Epoch 16 / 25) train acc: 0.774000; val_acc: 0.349000\n",
      "(Epoch 17 / 25) train acc: 0.770000; val_acc: 0.330000\n",
      "(Epoch 18 / 25) train acc: 0.786000; val_acc: 0.330000\n",
      "(Epoch 19 / 25) train acc: 0.810000; val_acc: 0.344000\n",
      "(Epoch 20 / 25) train acc: 0.836000; val_acc: 0.341000\n",
      "(Iteration 101 / 125) loss: 0.859838\n",
      "(Epoch 21 / 25) train acc: 0.856000; val_acc: 0.334000\n",
      "(Epoch 22 / 25) train acc: 0.860000; val_acc: 0.327000\n",
      "(Epoch 23 / 25) train acc: 0.882000; val_acc: 0.328000\n",
      "(Epoch 24 / 25) train acc: 0.910000; val_acc: 0.325000\n",
      "(Epoch 25 / 25) train acc: 0.908000; val_acc: 0.348000\n",
      "\n"
     ]
    }
   ],
   "source": [
    "# Train two identical nets, one with dropout and one without\n",
    "np.random.seed(231)\n",
    "num_train = 500\n",
    "small_data = {\n",
    "  'X_train': data['X_train'][:num_train],\n",
    "  'y_train': data['y_train'][:num_train],\n",
    "  'X_val': data['X_val'],\n",
    "  'y_val': data['y_val'],\n",
    "}\n",
    "\n",
    "solvers = {}\n",
    "dropout_choices = [1, 0.25]\n",
    "for dropout in dropout_choices:\n",
    "  model = FullyConnectedNet([500], dropout=dropout, normalization='layernorm')\n",
    "  print(dropout)\n",
    "\n",
    "  solver = Solver(model, small_data,\n",
    "                  num_epochs=25, batch_size=100,\n",
    "                  update_rule='adam',\n",
    "                  optim_config={\n",
    "                    'learning_rate': 5e-4,\n",
    "                  },\n",
    "                  verbose=True, print_every=100)\n",
    "  solver.train()\n",
    "  solvers[dropout] = solver\n",
    "  print()"
   ]
  },
  {
   "cell_type": "code",
   "execution_count": 40,
   "metadata": {},
   "outputs": [
    {
     "data": {
      "image/png": "[encoded data removed]",
      "text/plain": [
       "<matplotlib.figure.Figure at 0x22a1fadecc0>"
      ]
     },
     "metadata": {},
     "output_type": "display_data"
    }
   ],
   "source": [
    "# Plot train and validation accuracies of the two models\n",
    "\n",
    "train_accs = []\n",
    "val_accs = []\n",
    "for dropout in dropout_choices:\n",
    "  solver = solvers[dropout]\n",
    "  train_accs.append(solver.train_acc_history[-1])\n",
    "  val_accs.append(solver.val_acc_history[-1])\n",
    "\n",
    "plt.subplot(3, 1, 1)\n",
    "for dropout in dropout_choices:\n",
    "  plt.plot(solvers[dropout].train_acc_history, 'o', label='%.2f dropout' % dropout)\n",
    "plt.title('Train accuracy')\n",
    "plt.xlabel('Epoch')\n",
    "plt.ylabel('Accuracy')\n",
    "plt.legend(ncol=2, loc='lower right')\n",
    "  \n",
    "plt.subplot(3, 1, 2)\n",
    "for dropout in dropout_choices:\n",
    "  plt.plot(solvers[dropout].val_acc_history, 'o', label='%.2f dropout' % dropout)\n",
    "plt.title('Val accuracy')\n",
    "plt.xlabel('Epoch')\n",
    "plt.ylabel('Accuracy')\n",
    "plt.legend(ncol=2, loc='lower right')\n",
    "\n",
    "plt.gcf().set_size_inches(15, 15)\n",
    "plt.show()"
   ]
  },
  {
   "cell_type": "markdown",
   "metadata": {
    "tags": [
     "pdf-inline"
    ]
   },
   "source": [
    "## Inline Question 2:\n",
    "Compare the validation and training accuracies with and without dropout -- what do your results suggest about dropout as a regularizer?\n",
    "\n",
    "## Answer:\n",
    "[FILL THIS IN]\n",
    "We can see drop out reduces overfitting. We can see that train accuracy with a dropout is lower but the validation accuracy is higher."
   ]
  },
  {
   "cell_type": "markdown",
   "metadata": {
    "tags": [
     "pdf-inline"
    ]
   },
   "source": [
    "## Inline Question 3:\n",
    "Suppose we are training a deep fully-connected network for image classification, with dropout after hidden layers (parameterized by keep probability p). If we are concerned about overfitting, how should we modify p (if at all) when we decide to decrease the size of the hidden layers (that is, the number of nodes in each layer)?\n",
    "\n",
    "## Answer:\n",
    "[FILL THIS IN]\n",
    "<br>We should not change `p` since this is a proportion of number of nodes that will stay active. as the number of nodes gets smaller, the number of nodes activated or deactivated getting smaller."
   ]
  }
 ],
 "metadata": {
  "kernelspec": {
   "display_name": "Python 3",
   "language": "python",
   "name": "python3"
  },
  "language_info": {
   "codemirror_mode": {
    "name": "ipython",
    "version": 3
   },
   "file_extension": ".py",
   "mimetype": "text/x-python",
   "name": "python",
   "nbconvert_exporter": "python",
   "pygments_lexer": "ipython3",
   "version": "3.5.3"
  }
 },
 "nbformat": 4,
 "nbformat_minor": 2
}
